{
 "cells": [
  {
   "cell_type": "code",
   "execution_count": 6,
   "id": "08fa1a7c-9dc8-4561-b69e-1a4efa38ce4e",
   "metadata": {},
   "outputs": [
    {
     "name": "stdout",
     "output_type": "stream",
     "text": [
      "Collection created: my_collection\n"
     ]
    }
   ],
   "source": [
    "import chromadb\n",
    "\n",
    "# Initialize the client\n",
    "client = chromadb.Client()\n",
    "\n",
    "# Create a collection\n",
    "collection = client.create_collection(name=\"my_collection\")\n",
    "\n",
    "print(f\"Collection created: {collection.name}\")\n"
   ]
  },
  {
   "cell_type": "code",
   "execution_count": null,
   "id": "4a2cf021-aae9-4c53-8903-514e768431b6",
   "metadata": {},
   "outputs": [],
   "source": []
  }
 ],
 "metadata": {
  "kernelspec": {
   "display_name": "Python 3 (ipykernel)",
   "language": "python",
   "name": "python3"
  },
  "language_info": {
   "codemirror_mode": {
    "name": "ipython",
    "version": 3
   },
   "file_extension": ".py",
   "mimetype": "text/x-python",
   "name": "python",
   "nbconvert_exporter": "python",
   "pygments_lexer": "ipython3",
   "version": "3.12.5"
  }
 },
 "nbformat": 4,
 "nbformat_minor": 5
}
